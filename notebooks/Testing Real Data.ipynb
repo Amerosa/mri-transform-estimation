{
 "cells": [
  {
   "cell_type": "code",
   "execution_count": 1,
   "id": "c48f7016-f745-499c-bb87-0750b2f9a6bf",
   "metadata": {},
   "outputs": [],
   "source": [
    "import numpy as np\n",
    "import twixtools\n",
    "from pathlib import Path\n",
    "import matplotlib.pyplot as plt"
   ]
  },
  {
   "cell_type": "code",
   "execution_count": 2,
   "id": "59db82be-3c8f-4902-9748-18193533eeae",
   "metadata": {},
   "outputs": [
    {
     "name": "stdout",
     "output_type": "stream",
     "text": [
      "Software version: VD/VE (!?)\n",
      "\n",
      "Scan  0\n"
     ]
    },
    {
     "name": "stderr",
     "output_type": "stream",
     "text": [
      "100%|██████████████████████████████████████████████████████████████████████████████| 38.1M/38.1M [00:00<00:00, 44.6MB/s]\n"
     ]
    },
    {
     "name": "stdout",
     "output_type": "stream",
     "text": [
      "Scan  1\n"
     ]
    },
    {
     "name": "stderr",
     "output_type": "stream",
     "text": [
      " 72%|███████████████████████████████████████████████████████▉                      | 2.67G/3.72G [10:23<04:28, 4.21MB/s]"
     ]
    },
    {
     "name": "stdout",
     "output_type": "stream",
     "text": [
      "WARNING: Mdb parsing encountered an error at file position 2904531040/4034446400, stopping here.\n",
      "WARNING: Mdb parsing encountered an error at file position 2904531232/4034446400, stopping here.\n"
     ]
    },
    {
     "ename": "UnicodeDecodeError",
     "evalue": "'ascii' codec can't decode byte 0xc3 in position 0: ordinal not in range(128)",
     "output_type": "error",
     "traceback": [
      "\u001b[0;31m---------------------------------------------------------------------------\u001b[0m",
      "\u001b[0;31mUnicodeDecodeError\u001b[0m                        Traceback (most recent call last)",
      "Cell \u001b[0;32mIn[2], line 3\u001b[0m\n\u001b[1;32m      1\u001b[0m \u001b[38;5;66;03m#filename = \"/mnt/c/Users/giuse/Downloads/meas_MID00195_FID07959_T1_Sag_MPRAGE_p2_TR_1870_0_8mm.dat\"\u001b[39;00m\n\u001b[1;32m      2\u001b[0m filename \u001b[38;5;241m=\u001b[39m \u001b[38;5;124m\"\u001b[39m\u001b[38;5;124m/mnt/c/Users/giuse/Downloads/MR160-088-0539-02-RAW/meas_MID00053_FID41387_T1_Sag_MPRAGE_p2_TR_1870_0_8mm.dat\u001b[39m\u001b[38;5;124m\"\u001b[39m\n\u001b[0;32m----> 3\u001b[0m multi_twix \u001b[38;5;241m=\u001b[39m \u001b[43mtwixtools\u001b[49m\u001b[38;5;241;43m.\u001b[39;49m\u001b[43mread_twix\u001b[49m\u001b[43m(\u001b[49m\u001b[43mfilename\u001b[49m\u001b[43m)\u001b[49m\n",
      "File \u001b[0;32m~/aligned-sense/env/lib/python3.10/site-packages/twixtools/twixtools.py:172\u001b[0m, in \u001b[0;36mread_twix\u001b[0;34m(infile, include_scans, parse_prot, parse_data, parse_geometry, verbose, keep_syncdata_and_acqend, parse_pmu)\u001b[0m\n\u001b[1;32m    169\u001b[0m \u001b[38;5;28;01mexcept\u001b[39;00m \u001b[38;5;167;01mValueError\u001b[39;00m:\n\u001b[1;32m    170\u001b[0m     \u001b[38;5;28mprint\u001b[39m(\u001b[38;5;124mf\u001b[39m\u001b[38;5;124m\"\u001b[39m\u001b[38;5;124mWARNING: Mdb parsing encountered an error at file position \u001b[39m\u001b[38;5;132;01m{\u001b[39;00mpos\u001b[38;5;132;01m}\u001b[39;00m\u001b[38;5;124m/\u001b[39m\u001b[38;5;132;01m{\u001b[39;00mscanEnd\u001b[38;5;132;01m}\u001b[39;00m\u001b[38;5;124m, stopping here.\u001b[39m\u001b[38;5;124m\"\u001b[39m)\n\u001b[0;32m--> 172\u001b[0m packet_id \u001b[38;5;241m=\u001b[39m \u001b[43mmdb\u001b[49m\u001b[38;5;241;43m.\u001b[39;49m\u001b[43mdata\u001b[49m\u001b[43m[\u001b[49m\u001b[38;5;241;43m4\u001b[39;49m\u001b[43m:\u001b[49m\u001b[43mmdb\u001b[49m\u001b[38;5;241;43m.\u001b[39;49m\u001b[43mdata\u001b[49m\u001b[38;5;241;43m.\u001b[39;49m\u001b[43mfind\u001b[49m\u001b[43m(\u001b[49m\u001b[38;5;124;43mb\u001b[39;49m\u001b[38;5;124;43m'\u001b[39;49m\u001b[38;5;130;43;01m\\x00\u001b[39;49;00m\u001b[38;5;124;43m'\u001b[39;49m\u001b[43m,\u001b[49m\u001b[43m \u001b[49m\u001b[38;5;241;43m4\u001b[39;49m\u001b[43m)\u001b[49m\u001b[43m]\u001b[49m\u001b[38;5;241;43m.\u001b[39;49m\u001b[43mdecode\u001b[49m\u001b[43m(\u001b[49m\u001b[38;5;124;43m'\u001b[39;49m\u001b[38;5;124;43mascii\u001b[39;49m\u001b[38;5;124;43m'\u001b[39;49m\u001b[43m)\u001b[49m \u001b[38;5;28;01mif\u001b[39;00m \u001b[38;5;28mlen\u001b[39m(mdb\u001b[38;5;241m.\u001b[39mdata) \u001b[38;5;241m>\u001b[39m \u001b[38;5;241m60\u001b[39m \u001b[38;5;28;01melse\u001b[39;00m \u001b[38;5;124m'\u001b[39m\u001b[38;5;124m'\u001b[39m\n\u001b[1;32m    173\u001b[0m is_pmu \u001b[38;5;241m=\u001b[39m packet_id \u001b[38;5;241m==\u001b[39m \u001b[38;5;124m'\u001b[39m\u001b[38;5;124mPMUData\u001b[39m\u001b[38;5;124m'\u001b[39m \u001b[38;5;129;01mor\u001b[39;00m packet_id \u001b[38;5;241m==\u001b[39m \u001b[38;5;124m'\u001b[39m\u001b[38;5;124mPMULearnPhase\u001b[39m\u001b[38;5;124m'\u001b[39m\n\u001b[1;32m    174\u001b[0m \u001b[38;5;28;01mif\u001b[39;00m is_pmu \u001b[38;5;129;01mand\u001b[39;00m parse_pmu:\n",
      "\u001b[0;31mUnicodeDecodeError\u001b[0m: 'ascii' codec can't decode byte 0xc3 in position 0: ordinal not in range(128)"
     ]
    }
   ],
   "source": [
    "#filename = \"/mnt/c/Users/giuse/Downloads/meas_MID00195_FID07959_T1_Sag_MPRAGE_p2_TR_1870_0_8mm.dat\"\n",
    "filename = \"/mnt/c/Users/giuse/Downloads/MR160-088-0539-02-RAW/meas_MID00053_FID41387_T1_Sag_MPRAGE_p2_TR_1870_0_8mm.dat\"\n",
    "multi_twix = twixtools.read_twix(filename)"
   ]
  },
  {
   "cell_type": "markdown",
   "id": "c5718cb1-06fd-4473-b1e2-67f1b35053d1",
   "metadata": {},
   "source": [
    "# list the mdh flags and line counters for every 8th measurement data block (mdb)\n",
    "for mdb in multi_twix[-1]['mdb'][::8]:\n",
    "    print('line: %3d; flags:'%(mdb.cLin), mdb.get_active_flags())"
   ]
  },
  {
   "cell_type": "code",
   "execution_count": null,
   "id": "78f3dfec-0b59-458b-b924-90a67c2ed9eb",
   "metadata": {},
   "outputs": [],
   "source": [
    "def ifftnd(kspace, axes=[-1]):\n",
    "    from numpy.fft import fftshift, ifftshift, ifftn\n",
    "    if axes is None:\n",
    "        axes = range(kspace.ndim)\n",
    "    img = fftshift(ifftn(ifftshift(kspace, axes=axes), axes=axes), axes=axes)\n",
    "    img *= np.sqrt(np.prod(np.take(img.shape, axes)))\n",
    "    return img\n",
    "\n",
    "\n",
    "def rms_comb(sig, axis=1):\n",
    "    return np.sqrt(np.sum(abs(sig)**2, axis))"
   ]
  },
  {
   "cell_type": "code",
   "execution_count": null,
   "id": "d56d0dc5-86b2-4901-af57-0961eb4ebed9",
   "metadata": {},
   "outputs": [],
   "source": [
    "image_mdbs = [mdb for mdb in multi_twix[-1]['mdb'] if mdb.is_image_scan()]"
   ]
  },
  {
   "cell_type": "markdown",
   "id": "fb6ec184-7c43-4ce2-9430-c1ebb9144ea9",
   "metadata": {},
   "source": [
    "\n",
    "# sort all 'imaging' mdbs into a k-space array\n",
    "image_mdbs = [mdb for mdb in multi_twix[-1]['mdb'] if mdb.is_image_scan()]\n",
    "\n",
    "for mdb in image_mdbs:\n",
    "    print(mdb.cLin)\n",
    "\n",
    "n_line = 1 + max([mdb.cLin for mdb in image_mdbs])\n",
    "\n",
    "# assume that all data were acquired with same number of channels & columns:\n",
    "n_channel, n_column = image_mdbs[0].data.shape\n",
    "\n",
    "kspace = np.zeros([n_line, n_channel, n_column], dtype=np.complex64)\n",
    "for mdb in image_mdbs:\n",
    "    kspace[mdb.cLin] = mdb.data\n",
    "\n",
    "print('\\nk-space shape', kspace.shape)\n",
    "print(kspace[:,0].shape)\n",
    "\n",
    "kspace = np.fft.fftshift(kspace)\n",
    "# reconstruct an image and show the result:\n",
    "plt.figure(figsize=[12,8])\n",
    "plt.subplot(121)\n",
    "plt.title('k-space')\n",
    "plt.imshow(abs(kspace[:,0]), cmap='gray', origin='lower')\n",
    "plt.axis('off')\n",
    "\n",
    "\n",
    "\n",
    "image = ifftnd(kspace, [0,-1])\n",
    "image = rms_comb(image)\n",
    "plt.subplot(122)\n",
    "plt.title('image')\n",
    "plt.imshow(abs(image), cmap='gray', origin='lower')\n",
    "plt.axis('off')"
   ]
  },
  {
   "cell_type": "markdown",
   "id": "30093cd5-ce9e-49cc-95d7-5cca84bfd2a7",
   "metadata": {},
   "source": [
    "fig, axes = plt.subplots(5, 4, figsize=(14,14), sharex=True, sharey=True)\n",
    "\n",
    "for row in range(5):\n",
    "    for column in range(4):\n",
    "        ax = axes[row, column]\n",
    "        coil = row * 4 + column\n",
    "        ax.set_title(f\"Coil# {coil+1}\")\n",
    "        ax.axis('off')\n",
    "        ax.imshow(np.abs(kspace[:,coil])**0.2, cmap='gray', origin='lower')\n",
    "plt.tight_layout()\n",
    "plt.show()"
   ]
  },
  {
   "cell_type": "code",
   "execution_count": null,
   "id": "56ab2843-3a2f-4931-9a89-0186d939447c",
   "metadata": {},
   "outputs": [],
   "source": [
    "# read image data from list of mdbs and sort into 3d k-space (+ coil dim.)\n",
    "def import_kspace(mdb_list):\n",
    "    image_mdbs = []\n",
    "    for mdb in mdb_list:\n",
    "        if mdb.is_image_scan():\n",
    "            image_mdbs.append(mdb)\n",
    "\n",
    "    n_line = 1 + max([mdb.cLin for mdb in image_mdbs])\n",
    "    n_part = 1 + max([mdb.cPar for mdb in image_mdbs])\n",
    "    n_channel, n_column = image_mdbs[0].data.shape\n",
    "\n",
    "    out = np.zeros([n_part, n_line, n_channel, n_column], dtype=np.complex64)\n",
    "    for mdb in image_mdbs:\n",
    "        # '+=' takes care of averaging, but careful in case of other counters (e.g. echoes)\n",
    "        out[mdb.cPar, mdb.cLin] += mdb.data\n",
    "\n",
    "    return out  # 4D numpy array [n_part, n_line, n_channel, n_column]\n",
    "\n",
    "output = import_kspace(multi_twix[-1]['mdb'])"
   ]
  },
  {
   "cell_type": "code",
   "execution_count": null,
   "id": "82b879f1-d065-4e76-8bf5-4a775e57013f",
   "metadata": {},
   "outputs": [],
   "source": [
    "# map the twix data to twix_array objects\n",
    "mapped = twixtools.map_twix(multi_twix)\n",
    "im_data = mapped[-1]['image']\n",
    "\n",
    "# make sure that we later squeeze the right dimensions:\n",
    "print(im_data.non_singleton_dims)\n",
    "\n",
    "# the twix_array object makes it easy to remove the 2x oversampling in read direction\n",
    "im_data.flags['remove_os'] = True\n",
    "\n",
    "# read the data (array-slicing is also supported)\n",
    "data = im_data[:].squeeze()\n"
   ]
  },
  {
   "cell_type": "code",
   "execution_count": null,
   "id": "612c86ce-fe68-4e2a-9101-9cd1e4f42275",
   "metadata": {},
   "outputs": [],
   "source": [
    "data = im_data[:].squeeze()"
   ]
  },
  {
   "cell_type": "code",
   "execution_count": null,
   "id": "24139779-1e2c-4960-8f64-2a96bfddaff1",
   "metadata": {},
   "outputs": [],
   "source": [
    "image = ifftnd(output, [0, 1,-1])\n",
    "image = rms_comb(image, axis=-2)"
   ]
  },
  {
   "cell_type": "code",
   "execution_count": null,
   "id": "d1379b65-6445-4994-b183-9626c106e057",
   "metadata": {},
   "outputs": [],
   "source": [
    "output.shape\n",
    "#plt.imshow(np.abs([0,:,0]), cmap='gray')"
   ]
  }
 ],
 "metadata": {
  "kernelspec": {
   "display_name": "Python 3 (ipykernel)",
   "language": "python",
   "name": "python3"
  },
  "language_info": {
   "codemirror_mode": {
    "name": "ipython",
    "version": 3
   },
   "file_extension": ".py",
   "mimetype": "text/x-python",
   "name": "python",
   "nbconvert_exporter": "python",
   "pygments_lexer": "ipython3",
   "version": "3.10.12"
  }
 },
 "nbformat": 4,
 "nbformat_minor": 5
}
